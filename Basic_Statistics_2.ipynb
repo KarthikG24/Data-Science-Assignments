{
  "nbformat": 4,
  "nbformat_minor": 0,
  "metadata": {
    "colab": {
      "provenance": []
    },
    "kernelspec": {
      "name": "python3",
      "display_name": "Python 3"
    },
    "language_info": {
      "name": "python"
    }
  },
  "cells": [
    {
      "cell_type": "markdown",
      "source": [
        "# **Basic Statistics 2**"
      ],
      "metadata": {
        "id": "xdJQhQDrZ7Fa"
      }
    },
    {
      "cell_type": "markdown",
      "source": [
        "**Descripetive Statistics**"
      ],
      "metadata": {
        "id": "Z0QpF4qBaCFr"
      }
    },
    {
      "cell_type": "markdown",
      "source": [
        "Question 1"
      ],
      "metadata": {
        "id": "1Xay0-egb3Od"
      }
    },
    {
      "cell_type": "code",
      "source": [
        "from scipy import stats\n",
        "import numpy as np\n",
        "import statistics as st\n",
        "import pandas as pd\n",
        "import matplotlib.pyplot as plt\n",
        "import math"
      ],
      "metadata": {
        "id": "702VFs26av5t"
      },
      "execution_count": null,
      "outputs": []
    },
    {
      "cell_type": "code",
      "source": [
        "Df_1=pd.DataFrame({'Company':['Allied Signal',\n",
        "'Bankers Trust',\n",
        "'General Mills',\n",
        "'ITT Industries',\n",
        "'J.P.Morgan & Co',\n",
        "'Lehman Brothers',\n",
        "'Marriott',\n",
        "'MCI',\n",
        "'Merrill Lynch',\n",
        "'Microsoft',\n",
        "'Morgan Stanley',\n",
        "'Sun Microsystems',\n",
        "'Travelers',\n",
        "'US Airways',\n",
        "'Warner-Lambert'],'Measurex':[24.23,25.53,25.41,24.14,29.62,28.25,25.81,24.39,40.26,32.95,91.36,25.99,39.42,26.71,35.00]})\n",
        "Df_1\n",
        "#measure_X=pd.Series([24.23,25.53,25.41,24.14,29.62,28.25,25.81,24.39,40.26,32.95,91.36,25.99,39.42,26.71,35.00])\n",
        "#measure_X"
      ],
      "metadata": {
        "colab": {
          "base_uri": "https://localhost:8080/",
          "height": 519
        },
        "id": "QojPVGsoaz_e",
        "outputId": "eabdbcc0-61c8-4f9a-cc23-d93df197fd36"
      },
      "execution_count": null,
      "outputs": [
        {
          "output_type": "execute_result",
          "data": {
            "text/plain": [
              "             Company  Measurex\n",
              "0      Allied Signal     24.23\n",
              "1      Bankers Trust     25.53\n",
              "2      General Mills     25.41\n",
              "3     ITT Industries     24.14\n",
              "4    J.P.Morgan & Co     29.62\n",
              "5    Lehman Brothers     28.25\n",
              "6           Marriott     25.81\n",
              "7                MCI     24.39\n",
              "8      Merrill Lynch     40.26\n",
              "9          Microsoft     32.95\n",
              "10    Morgan Stanley     91.36\n",
              "11  Sun Microsystems     25.99\n",
              "12         Travelers     39.42\n",
              "13        US Airways     26.71\n",
              "14    Warner-Lambert     35.00"
            ],
            "text/html": [
              "\n",
              "\n",
              "  <div id=\"df-49674cb9-2a19-4da4-8b8b-bbb4dbc20f69\">\n",
              "    <div class=\"colab-df-container\">\n",
              "      <div>\n",
              "<style scoped>\n",
              "    .dataframe tbody tr th:only-of-type {\n",
              "        vertical-align: middle;\n",
              "    }\n",
              "\n",
              "    .dataframe tbody tr th {\n",
              "        vertical-align: top;\n",
              "    }\n",
              "\n",
              "    .dataframe thead th {\n",
              "        text-align: right;\n",
              "    }\n",
              "</style>\n",
              "<table border=\"1\" class=\"dataframe\">\n",
              "  <thead>\n",
              "    <tr style=\"text-align: right;\">\n",
              "      <th></th>\n",
              "      <th>Company</th>\n",
              "      <th>Measurex</th>\n",
              "    </tr>\n",
              "  </thead>\n",
              "  <tbody>\n",
              "    <tr>\n",
              "      <th>0</th>\n",
              "      <td>Allied Signal</td>\n",
              "      <td>24.23</td>\n",
              "    </tr>\n",
              "    <tr>\n",
              "      <th>1</th>\n",
              "      <td>Bankers Trust</td>\n",
              "      <td>25.53</td>\n",
              "    </tr>\n",
              "    <tr>\n",
              "      <th>2</th>\n",
              "      <td>General Mills</td>\n",
              "      <td>25.41</td>\n",
              "    </tr>\n",
              "    <tr>\n",
              "      <th>3</th>\n",
              "      <td>ITT Industries</td>\n",
              "      <td>24.14</td>\n",
              "    </tr>\n",
              "    <tr>\n",
              "      <th>4</th>\n",
              "      <td>J.P.Morgan &amp; Co</td>\n",
              "      <td>29.62</td>\n",
              "    </tr>\n",
              "    <tr>\n",
              "      <th>5</th>\n",
              "      <td>Lehman Brothers</td>\n",
              "      <td>28.25</td>\n",
              "    </tr>\n",
              "    <tr>\n",
              "      <th>6</th>\n",
              "      <td>Marriott</td>\n",
              "      <td>25.81</td>\n",
              "    </tr>\n",
              "    <tr>\n",
              "      <th>7</th>\n",
              "      <td>MCI</td>\n",
              "      <td>24.39</td>\n",
              "    </tr>\n",
              "    <tr>\n",
              "      <th>8</th>\n",
              "      <td>Merrill Lynch</td>\n",
              "      <td>40.26</td>\n",
              "    </tr>\n",
              "    <tr>\n",
              "      <th>9</th>\n",
              "      <td>Microsoft</td>\n",
              "      <td>32.95</td>\n",
              "    </tr>\n",
              "    <tr>\n",
              "      <th>10</th>\n",
              "      <td>Morgan Stanley</td>\n",
              "      <td>91.36</td>\n",
              "    </tr>\n",
              "    <tr>\n",
              "      <th>11</th>\n",
              "      <td>Sun Microsystems</td>\n",
              "      <td>25.99</td>\n",
              "    </tr>\n",
              "    <tr>\n",
              "      <th>12</th>\n",
              "      <td>Travelers</td>\n",
              "      <td>39.42</td>\n",
              "    </tr>\n",
              "    <tr>\n",
              "      <th>13</th>\n",
              "      <td>US Airways</td>\n",
              "      <td>26.71</td>\n",
              "    </tr>\n",
              "    <tr>\n",
              "      <th>14</th>\n",
              "      <td>Warner-Lambert</td>\n",
              "      <td>35.00</td>\n",
              "    </tr>\n",
              "  </tbody>\n",
              "</table>\n",
              "</div>\n",
              "      <button class=\"colab-df-convert\" onclick=\"convertToInteractive('df-49674cb9-2a19-4da4-8b8b-bbb4dbc20f69')\"\n",
              "              title=\"Convert this dataframe to an interactive table.\"\n",
              "              style=\"display:none;\">\n",
              "\n",
              "  <svg xmlns=\"http://www.w3.org/2000/svg\" height=\"24px\"viewBox=\"0 0 24 24\"\n",
              "       width=\"24px\">\n",
              "    <path d=\"M0 0h24v24H0V0z\" fill=\"none\"/>\n",
              "    <path d=\"M18.56 5.44l.94 2.06.94-2.06 2.06-.94-2.06-.94-.94-2.06-.94 2.06-2.06.94zm-11 1L8.5 8.5l.94-2.06 2.06-.94-2.06-.94L8.5 2.5l-.94 2.06-2.06.94zm10 10l.94 2.06.94-2.06 2.06-.94-2.06-.94-.94-2.06-.94 2.06-2.06.94z\"/><path d=\"M17.41 7.96l-1.37-1.37c-.4-.4-.92-.59-1.43-.59-.52 0-1.04.2-1.43.59L10.3 9.45l-7.72 7.72c-.78.78-.78 2.05 0 2.83L4 21.41c.39.39.9.59 1.41.59.51 0 1.02-.2 1.41-.59l7.78-7.78 2.81-2.81c.8-.78.8-2.07 0-2.86zM5.41 20L4 18.59l7.72-7.72 1.47 1.35L5.41 20z\"/>\n",
              "  </svg>\n",
              "      </button>\n",
              "\n",
              "\n",
              "\n",
              "    <div id=\"df-0efcb155-d12b-4e93-8fbb-520c9fdeb5d8\">\n",
              "      <button class=\"colab-df-quickchart\" onclick=\"quickchart('df-0efcb155-d12b-4e93-8fbb-520c9fdeb5d8')\"\n",
              "              title=\"Suggest charts.\"\n",
              "              style=\"display:none;\">\n",
              "\n",
              "<svg xmlns=\"http://www.w3.org/2000/svg\" height=\"24px\"viewBox=\"0 0 24 24\"\n",
              "     width=\"24px\">\n",
              "    <g>\n",
              "        <path d=\"M19 3H5c-1.1 0-2 .9-2 2v14c0 1.1.9 2 2 2h14c1.1 0 2-.9 2-2V5c0-1.1-.9-2-2-2zM9 17H7v-7h2v7zm4 0h-2V7h2v10zm4 0h-2v-4h2v4z\"/>\n",
              "    </g>\n",
              "</svg>\n",
              "      </button>\n",
              "    </div>\n",
              "\n",
              "<style>\n",
              "  .colab-df-quickchart {\n",
              "    background-color: #E8F0FE;\n",
              "    border: none;\n",
              "    border-radius: 50%;\n",
              "    cursor: pointer;\n",
              "    display: none;\n",
              "    fill: #1967D2;\n",
              "    height: 32px;\n",
              "    padding: 0 0 0 0;\n",
              "    width: 32px;\n",
              "  }\n",
              "\n",
              "  .colab-df-quickchart:hover {\n",
              "    background-color: #E2EBFA;\n",
              "    box-shadow: 0px 1px 2px rgba(60, 64, 67, 0.3), 0px 1px 3px 1px rgba(60, 64, 67, 0.15);\n",
              "    fill: #174EA6;\n",
              "  }\n",
              "\n",
              "  [theme=dark] .colab-df-quickchart {\n",
              "    background-color: #3B4455;\n",
              "    fill: #D2E3FC;\n",
              "  }\n",
              "\n",
              "  [theme=dark] .colab-df-quickchart:hover {\n",
              "    background-color: #434B5C;\n",
              "    box-shadow: 0px 1px 3px 1px rgba(0, 0, 0, 0.15);\n",
              "    filter: drop-shadow(0px 1px 2px rgba(0, 0, 0, 0.3));\n",
              "    fill: #FFFFFF;\n",
              "  }\n",
              "</style>\n",
              "\n",
              "    <script>\n",
              "      async function quickchart(key) {\n",
              "        const containerElement = document.querySelector('#' + key);\n",
              "        const charts = await google.colab.kernel.invokeFunction(\n",
              "            'suggestCharts', [key], {});\n",
              "      }\n",
              "    </script>\n",
              "\n",
              "      <script>\n",
              "\n",
              "function displayQuickchartButton(domScope) {\n",
              "  let quickchartButtonEl =\n",
              "    domScope.querySelector('#df-0efcb155-d12b-4e93-8fbb-520c9fdeb5d8 button.colab-df-quickchart');\n",
              "  quickchartButtonEl.style.display =\n",
              "    google.colab.kernel.accessAllowed ? 'block' : 'none';\n",
              "}\n",
              "\n",
              "        displayQuickchartButton(document);\n",
              "      </script>\n",
              "      <style>\n",
              "    .colab-df-container {\n",
              "      display:flex;\n",
              "      flex-wrap:wrap;\n",
              "      gap: 12px;\n",
              "    }\n",
              "\n",
              "    .colab-df-convert {\n",
              "      background-color: #E8F0FE;\n",
              "      border: none;\n",
              "      border-radius: 50%;\n",
              "      cursor: pointer;\n",
              "      display: none;\n",
              "      fill: #1967D2;\n",
              "      height: 32px;\n",
              "      padding: 0 0 0 0;\n",
              "      width: 32px;\n",
              "    }\n",
              "\n",
              "    .colab-df-convert:hover {\n",
              "      background-color: #E2EBFA;\n",
              "      box-shadow: 0px 1px 2px rgba(60, 64, 67, 0.3), 0px 1px 3px 1px rgba(60, 64, 67, 0.15);\n",
              "      fill: #174EA6;\n",
              "    }\n",
              "\n",
              "    [theme=dark] .colab-df-convert {\n",
              "      background-color: #3B4455;\n",
              "      fill: #D2E3FC;\n",
              "    }\n",
              "\n",
              "    [theme=dark] .colab-df-convert:hover {\n",
              "      background-color: #434B5C;\n",
              "      box-shadow: 0px 1px 3px 1px rgba(0, 0, 0, 0.15);\n",
              "      filter: drop-shadow(0px 1px 2px rgba(0, 0, 0, 0.3));\n",
              "      fill: #FFFFFF;\n",
              "    }\n",
              "  </style>\n",
              "\n",
              "      <script>\n",
              "        const buttonEl =\n",
              "          document.querySelector('#df-49674cb9-2a19-4da4-8b8b-bbb4dbc20f69 button.colab-df-convert');\n",
              "        buttonEl.style.display =\n",
              "          google.colab.kernel.accessAllowed ? 'block' : 'none';\n",
              "\n",
              "        async function convertToInteractive(key) {\n",
              "          const element = document.querySelector('#df-49674cb9-2a19-4da4-8b8b-bbb4dbc20f69');\n",
              "          const dataTable =\n",
              "            await google.colab.kernel.invokeFunction('convertToInteractive',\n",
              "                                                     [key], {});\n",
              "          if (!dataTable) return;\n",
              "\n",
              "          const docLinkHtml = 'Like what you see? Visit the ' +\n",
              "            '<a target=\"_blank\" href=https://colab.research.google.com/notebooks/data_table.ipynb>data table notebook</a>'\n",
              "            + ' to learn more about interactive tables.';\n",
              "          element.innerHTML = '';\n",
              "          dataTable['output_type'] = 'display_data';\n",
              "          await google.colab.output.renderOutput(dataTable, element);\n",
              "          const docLink = document.createElement('div');\n",
              "          docLink.innerHTML = docLinkHtml;\n",
              "          element.appendChild(docLink);\n",
              "        }\n",
              "      </script>\n",
              "    </div>\n",
              "  </div>\n"
            ]
          },
          "metadata": {},
          "execution_count": 99
        }
      ]
    },
    {
      "cell_type": "code",
      "source": [
        "Mean1=Df_1['Measurex'].mean()\n",
        "Variance1=Df_1['Measurex'].var()\n",
        "STD1=Df_1['Measurex'].std()\n",
        "print(\"The Mean is:\",Mean1,\"The Variance is:\",Variance1,\"The standard Deviation is:\",STD1)"
      ],
      "metadata": {
        "colab": {
          "base_uri": "https://localhost:8080/"
        },
        "id": "mXY4kw3xbQfb",
        "outputId": "0012703b-24a4-449b-d52d-e8cd1beb98fc"
      },
      "execution_count": null,
      "outputs": [
        {
          "output_type": "stream",
          "name": "stdout",
          "text": [
            "The Mean is: 33.27133333333333 The Variance is: 287.1466123809524 The standard Deviation is: 16.945400921222028\n"
          ]
        }
      ]
    },
    {
      "cell_type": "code",
      "source": [
        "#Plot the graph\n",
        "plt.figure(figsize=(5,5))\n",
        "plt.boxplot(Df_1['Measurex'],meanline=True,showmeans=True,data=True)\n",
        "#xlabel:(\"Company\",Size=10)\n",
        "#ylabel:(\"Measure of X\",Size=10)"
      ],
      "metadata": {
        "colab": {
          "base_uri": "https://localhost:8080/",
          "height": 584
        },
        "id": "ElLxcV_ObWuS",
        "outputId": "2aaddfef-7390-4cc1-e610-728d6ed066a5"
      },
      "execution_count": null,
      "outputs": [
        {
          "output_type": "execute_result",
          "data": {
            "text/plain": [
              "{'whiskers': [<matplotlib.lines.Line2D at 0x7a14438ab8e0>,\n",
              "  <matplotlib.lines.Line2D at 0x7a14438abb80>],\n",
              " 'caps': [<matplotlib.lines.Line2D at 0x7a14438abe20>,\n",
              "  <matplotlib.lines.Line2D at 0x7a14438c0100>],\n",
              " 'boxes': [<matplotlib.lines.Line2D at 0x7a14438ab640>],\n",
              " 'medians': [<matplotlib.lines.Line2D at 0x7a14438c03a0>],\n",
              " 'fliers': [<matplotlib.lines.Line2D at 0x7a14438c08e0>],\n",
              " 'means': [<matplotlib.lines.Line2D at 0x7a14438c0640>]}"
            ]
          },
          "metadata": {},
          "execution_count": 102
        },
        {
          "output_type": "display_data",
          "data": {
            "text/plain": [
              "<Figure size 500x500 with 1 Axes>"
            ],
            "image/png": "[encoded data removed]"
          },
          "metadata": {}
        }
      ]
    },
    {
      "cell_type": "code",
      "source": [
        "#To find the outliers\n",
        "Q_1=np.quantile(Df_1[\"Measurex\"],0.25)\n",
        "Q_3=np.quantile(Df_1[\"Measurex\"],0.75)\n",
        "Interquartile=Q_3-Q_1\n",
        "print(Interquartile)"
      ],
      "metadata": {
        "colab": {
          "base_uri": "https://localhost:8080/"
        },
        "id": "gPDQvT2kbeoI",
        "outputId": "8ac316ce-ecc2-4dc2-816f-2f2e27bb99d1"
      },
      "execution_count": null,
      "outputs": [
        {
          "output_type": "stream",
          "name": "stdout",
          "text": [
            "8.505000000000003\n"
          ]
        }
      ]
    },
    {
      "cell_type": "code",
      "source": [
        "lowerlimit=Q_1-1.5*Interquartile\n",
        "Higherlimit=Q_3+1.5*Interquartile"
      ],
      "metadata": {
        "id": "5KWkMF_cbgo2"
      },
      "execution_count": null,
      "outputs": []
    },
    {
      "cell_type": "code",
      "source": [
        "Lower_outlier=[]\n",
        "Higher_outlier=[]\n",
        "for i in Df_1['Measurex']:\n",
        "  if Higherlimit:\n",
        "     Higher_outlier=i\n",
        "print(\"Lower outlier is\",Lower_outlier)\n",
        "print(\"Higher outlier is\",Higher_outlier)"
      ],
      "metadata": {
        "colab": {
          "base_uri": "https://localhost:8080/"
        },
        "id": "7vVlSlP3bm0z",
        "outputId": "32264bc3-18d5-4cfc-a997-5ffeed8bb933"
      },
      "execution_count": null,
      "outputs": [
        {
          "output_type": "stream",
          "name": "stdout",
          "text": [
            "Lower outlier is []\n",
            "Higher outlier is 35.0\n"
          ]
        }
      ]
    },
    {
      "cell_type": "markdown",
      "source": [
        "------------------------------------------------------------------------------------------------------------------------------"
      ],
      "metadata": {
        "id": "r_W44nWtb7cC"
      }
    },
    {
      "cell_type": "markdown",
      "source": [
        "Question 5"
      ],
      "metadata": {
        "id": "Js1DFf79b8bg"
      }
    },
    {
      "cell_type": "code",
      "source": [
        "Df_5=pd.DataFrame({'x':['-2000','-1000','0','1000','2000','3000'],'PX':[0.1,0.1,0.2,0.2,0.3,0.1]})\n",
        "Df_5"
      ],
      "metadata": {
        "colab": {
          "base_uri": "https://localhost:8080/",
          "height": 237
        },
        "id": "rIKKj9Vdcojq",
        "outputId": "3ddd78a0-b72b-4a2a-fddb-133f47db5f60"
      },
      "execution_count": null,
      "outputs": [
        {
          "output_type": "execute_result",
          "data": {
            "text/plain": [
              "       x   PX\n",
              "0  -2000  0.1\n",
              "1  -1000  0.1\n",
              "2      0  0.2\n",
              "3   1000  0.2\n",
              "4   2000  0.3\n",
              "5   3000  0.1"
            ],
            "text/html": [
              "\n",
              "\n",
              "  <div id=\"df-6db2487e-f11c-4500-9661-b616fe51b6f5\">\n",
              "    <div class=\"colab-df-container\">\n",
              "      <div>\n",
              "<style scoped>\n",
              "    .dataframe tbody tr th:only-of-type {\n",
              "        vertical-align: middle;\n",
              "    }\n",
              "\n",
              "    .dataframe tbody tr th {\n",
              "        vertical-align: top;\n",
              "    }\n",
              "\n",
              "    .dataframe thead th {\n",
              "        text-align: right;\n",
              "    }\n",
              "</style>\n",
              "<table border=\"1\" class=\"dataframe\">\n",
              "  <thead>\n",
              "    <tr style=\"text-align: right;\">\n",
              "      <th></th>\n",
              "      <th>x</th>\n",
              "      <th>PX</th>\n",
              "    </tr>\n",
              "  </thead>\n",
              "  <tbody>\n",
              "    <tr>\n",
              "      <th>0</th>\n",
              "      <td>-2000</td>\n",
              "      <td>0.1</td>\n",
              "    </tr>\n",
              "    <tr>\n",
              "      <th>1</th>\n",
              "      <td>-1000</td>\n",
              "      <td>0.1</td>\n",
              "    </tr>\n",
              "    <tr>\n",
              "      <th>2</th>\n",
              "      <td>0</td>\n",
              "      <td>0.2</td>\n",
              "    </tr>\n",
              "    <tr>\n",
              "      <th>3</th>\n",
              "      <td>1000</td>\n",
              "      <td>0.2</td>\n",
              "    </tr>\n",
              "    <tr>\n",
              "      <th>4</th>\n",
              "      <td>2000</td>\n",
              "      <td>0.3</td>\n",
              "    </tr>\n",
              "    <tr>\n",
              "      <th>5</th>\n",
              "      <td>3000</td>\n",
              "      <td>0.1</td>\n",
              "    </tr>\n",
              "  </tbody>\n",
              "</table>\n",
              "</div>\n",
              "      <button class=\"colab-df-convert\" onclick=\"convertToInteractive('df-6db2487e-f11c-4500-9661-b616fe51b6f5')\"\n",
              "              title=\"Convert this dataframe to an interactive table.\"\n",
              "              style=\"display:none;\">\n",
              "\n",
              "  <svg xmlns=\"http://www.w3.org/2000/svg\" height=\"24px\"viewBox=\"0 0 24 24\"\n",
              "       width=\"24px\">\n",
              "    <path d=\"M0 0h24v24H0V0z\" fill=\"none\"/>\n",
              "    <path d=\"M18.56 5.44l.94 2.06.94-2.06 2.06-.94-2.06-.94-.94-2.06-.94 2.06-2.06.94zm-11 1L8.5 8.5l.94-2.06 2.06-.94-2.06-.94L8.5 2.5l-.94 2.06-2.06.94zm10 10l.94 2.06.94-2.06 2.06-.94-2.06-.94-.94-2.06-.94 2.06-2.06.94z\"/><path d=\"M17.41 7.96l-1.37-1.37c-.4-.4-.92-.59-1.43-.59-.52 0-1.04.2-1.43.59L10.3 9.45l-7.72 7.72c-.78.78-.78 2.05 0 2.83L4 21.41c.39.39.9.59 1.41.59.51 0 1.02-.2 1.41-.59l7.78-7.78 2.81-2.81c.8-.78.8-2.07 0-2.86zM5.41 20L4 18.59l7.72-7.72 1.47 1.35L5.41 20z\"/>\n",
              "  </svg>\n",
              "      </button>\n",
              "\n",
              "\n",
              "\n",
              "    <div id=\"df-26416ff2-570f-4808-b139-0d02915dddf0\">\n",
              "      <button class=\"colab-df-quickchart\" onclick=\"quickchart('df-26416ff2-570f-4808-b139-0d02915dddf0')\"\n",
              "              title=\"Suggest charts.\"\n",
              "              style=\"display:none;\">\n",
              "\n",
              "<svg xmlns=\"http://www.w3.org/2000/svg\" height=\"24px\"viewBox=\"0 0 24 24\"\n",
              "     width=\"24px\">\n",
              "    <g>\n",
              "        <path d=\"M19 3H5c-1.1 0-2 .9-2 2v14c0 1.1.9 2 2 2h14c1.1 0 2-.9 2-2V5c0-1.1-.9-2-2-2zM9 17H7v-7h2v7zm4 0h-2V7h2v10zm4 0h-2v-4h2v4z\"/>\n",
              "    </g>\n",
              "</svg>\n",
              "      </button>\n",
              "    </div>\n",
              "\n",
              "<style>\n",
              "  .colab-df-quickchart {\n",
              "    background-color: #E8F0FE;\n",
              "    border: none;\n",
              "    border-radius: 50%;\n",
              "    cursor: pointer;\n",
              "    display: none;\n",
              "    fill: #1967D2;\n",
              "    height: 32px;\n",
              "    padding: 0 0 0 0;\n",
              "    width: 32px;\n",
              "  }\n",
              "\n",
              "  .colab-df-quickchart:hover {\n",
              "    background-color: #E2EBFA;\n",
              "    box-shadow: 0px 1px 2px rgba(60, 64, 67, 0.3), 0px 1px 3px 1px rgba(60, 64, 67, 0.15);\n",
              "    fill: #174EA6;\n",
              "  }\n",
              "\n",
              "  [theme=dark] .colab-df-quickchart {\n",
              "    background-color: #3B4455;\n",
              "    fill: #D2E3FC;\n",
              "  }\n",
              "\n",
              "  [theme=dark] .colab-df-quickchart:hover {\n",
              "    background-color: #434B5C;\n",
              "    box-shadow: 0px 1px 3px 1px rgba(0, 0, 0, 0.15);\n",
              "    filter: drop-shadow(0px 1px 2px rgba(0, 0, 0, 0.3));\n",
              "    fill: #FFFFFF;\n",
              "  }\n",
              "</style>\n",
              "\n",
              "    <script>\n",
              "      async function quickchart(key) {\n",
              "        const containerElement = document.querySelector('#' + key);\n",
              "        const charts = await google.colab.kernel.invokeFunction(\n",
              "            'suggestCharts', [key], {});\n",
              "      }\n",
              "    </script>\n",
              "\n",
              "      <script>\n",
              "\n",
              "function displayQuickchartButton(domScope) {\n",
              "  let quickchartButtonEl =\n",
              "    domScope.querySelector('#df-26416ff2-570f-4808-b139-0d02915dddf0 button.colab-df-quickchart');\n",
              "  quickchartButtonEl.style.display =\n",
              "    google.colab.kernel.accessAllowed ? 'block' : 'none';\n",
              "}\n",
              "\n",
              "        displayQuickchartButton(document);\n",
              "      </script>\n",
              "      <style>\n",
              "    .colab-df-container {\n",
              "      display:flex;\n",
              "      flex-wrap:wrap;\n",
              "      gap: 12px;\n",
              "    }\n",
              "\n",
              "    .colab-df-convert {\n",
              "      background-color: #E8F0FE;\n",
              "      border: none;\n",
              "      border-radius: 50%;\n",
              "      cursor: pointer;\n",
              "      display: none;\n",
              "      fill: #1967D2;\n",
              "      height: 32px;\n",
              "      padding: 0 0 0 0;\n",
              "      width: 32px;\n",
              "    }\n",
              "\n",
              "    .colab-df-convert:hover {\n",
              "      background-color: #E2EBFA;\n",
              "      box-shadow: 0px 1px 2px rgba(60, 64, 67, 0.3), 0px 1px 3px 1px rgba(60, 64, 67, 0.15);\n",
              "      fill: #174EA6;\n",
              "    }\n",
              "\n",
              "    [theme=dark] .colab-df-convert {\n",
              "      background-color: #3B4455;\n",
              "      fill: #D2E3FC;\n",
              "    }\n",
              "\n",
              "    [theme=dark] .colab-df-convert:hover {\n",
              "      background-color: #434B5C;\n",
              "      box-shadow: 0px 1px 3px 1px rgba(0, 0, 0, 0.15);\n",
              "      filter: drop-shadow(0px 1px 2px rgba(0, 0, 0, 0.3));\n",
              "      fill: #FFFFFF;\n",
              "    }\n",
              "  </style>\n",
              "\n",
              "      <script>\n",
              "        const buttonEl =\n",
              "          document.querySelector('#df-6db2487e-f11c-4500-9661-b616fe51b6f5 button.colab-df-convert');\n",
              "        buttonEl.style.display =\n",
              "          google.colab.kernel.accessAllowed ? 'block' : 'none';\n",
              "\n",
              "        async function convertToInteractive(key) {\n",
              "          const element = document.querySelector('#df-6db2487e-f11c-4500-9661-b616fe51b6f5');\n",
              "          const dataTable =\n",
              "            await google.colab.kernel.invokeFunction('convertToInteractive',\n",
              "                                                     [key], {});\n",
              "          if (!dataTable) return;\n",
              "\n",
              "          const docLinkHtml = 'Like what you see? Visit the ' +\n",
              "            '<a target=\"_blank\" href=https://colab.research.google.com/notebooks/data_table.ipynb>data table notebook</a>'\n",
              "            + ' to learn more about interactive tables.';\n",
              "          element.innerHTML = '';\n",
              "          dataTable['output_type'] = 'display_data';\n",
              "          await google.colab.output.renderOutput(dataTable, element);\n",
              "          const docLink = document.createElement('div');\n",
              "          docLink.innerHTML = docLinkHtml;\n",
              "          element.appendChild(docLink);\n",
              "        }\n",
              "      </script>\n",
              "    </div>\n",
              "  </div>\n"
            ]
          },
          "metadata": {},
          "execution_count": 106
        }
      ]
    },
    {
      "cell_type": "code",
      "source": [
        "#What is the most likely monetary outcome of the business venture?\n",
        "\n",
        "max5=Df_5['PX'].max()\n",
        "Most_likely_monetary_outcome=Df_5[Df_5['PX']==max5]\n",
        "\n",
        "Most_likely_monetary_outcome"
      ],
      "metadata": {
        "colab": {
          "base_uri": "https://localhost:8080/",
          "height": 98
        },
        "id": "Pk5xhsIbcscS",
        "outputId": "a4899b4f-9aa9-435f-c893-cfb4c1ee9bab"
      },
      "execution_count": null,
      "outputs": [
        {
          "output_type": "stream",
          "name": "stdout",
          "text": [
            "Object `venture` not found.\n"
          ]
        },
        {
          "output_type": "execute_result",
          "data": {
            "text/plain": [
              "      x   PX\n",
              "4  2000  0.3"
            ],
            "text/html": [
              "\n",
              "\n",
              "  <div id=\"df-1c001959-0540-4bc3-b74b-520d6fe6f3b4\">\n",
              "    <div class=\"colab-df-container\">\n",
              "      <div>\n",
              "<style scoped>\n",
              "    .dataframe tbody tr th:only-of-type {\n",
              "        vertical-align: middle;\n",
              "    }\n",
              "\n",
              "    .dataframe tbody tr th {\n",
              "        vertical-align: top;\n",
              "    }\n",
              "\n",
              "    .dataframe thead th {\n",
              "        text-align: right;\n",
              "    }\n",
              "</style>\n",
              "<table border=\"1\" class=\"dataframe\">\n",
              "  <thead>\n",
              "    <tr style=\"text-align: right;\">\n",
              "      <th></th>\n",
              "      <th>x</th>\n",
              "      <th>PX</th>\n",
              "    </tr>\n",
              "  </thead>\n",
              "  <tbody>\n",
              "    <tr>\n",
              "      <th>4</th>\n",
              "      <td>2000</td>\n",
              "      <td>0.3</td>\n",
              "    </tr>\n",
              "  </tbody>\n",
              "</table>\n",
              "</div>\n",
              "      <button class=\"colab-df-convert\" onclick=\"convertToInteractive('df-1c001959-0540-4bc3-b74b-520d6fe6f3b4')\"\n",
              "              title=\"Convert this dataframe to an interactive table.\"\n",
              "              style=\"display:none;\">\n",
              "\n",
              "  <svg xmlns=\"http://www.w3.org/2000/svg\" height=\"24px\"viewBox=\"0 0 24 24\"\n",
              "       width=\"24px\">\n",
              "    <path d=\"M0 0h24v24H0V0z\" fill=\"none\"/>\n",
              "    <path d=\"M18.56 5.44l.94 2.06.94-2.06 2.06-.94-2.06-.94-.94-2.06-.94 2.06-2.06.94zm-11 1L8.5 8.5l.94-2.06 2.06-.94-2.06-.94L8.5 2.5l-.94 2.06-2.06.94zm10 10l.94 2.06.94-2.06 2.06-.94-2.06-.94-.94-2.06-.94 2.06-2.06.94z\"/><path d=\"M17.41 7.96l-1.37-1.37c-.4-.4-.92-.59-1.43-.59-.52 0-1.04.2-1.43.59L10.3 9.45l-7.72 7.72c-.78.78-.78 2.05 0 2.83L4 21.41c.39.39.9.59 1.41.59.51 0 1.02-.2 1.41-.59l7.78-7.78 2.81-2.81c.8-.78.8-2.07 0-2.86zM5.41 20L4 18.59l7.72-7.72 1.47 1.35L5.41 20z\"/>\n",
              "  </svg>\n",
              "      </button>\n",
              "\n",
              "\n",
              "\n",
              "    <div id=\"df-73733e52-1d6c-4e77-b6b2-83b1dec91d99\">\n",
              "      <button class=\"colab-df-quickchart\" onclick=\"quickchart('df-73733e52-1d6c-4e77-b6b2-83b1dec91d99')\"\n",
              "              title=\"Suggest charts.\"\n",
              "              style=\"display:none;\">\n",
              "\n",
              "<svg xmlns=\"http://www.w3.org/2000/svg\" height=\"24px\"viewBox=\"0 0 24 24\"\n",
              "     width=\"24px\">\n",
              "    <g>\n",
              "        <path d=\"M19 3H5c-1.1 0-2 .9-2 2v14c0 1.1.9 2 2 2h14c1.1 0 2-.9 2-2V5c0-1.1-.9-2-2-2zM9 17H7v-7h2v7zm4 0h-2V7h2v10zm4 0h-2v-4h2v4z\"/>\n",
              "    </g>\n",
              "</svg>\n",
              "      </button>\n",
              "    </div>\n",
              "\n",
              "<style>\n",
              "  .colab-df-quickchart {\n",
              "    background-color: #E8F0FE;\n",
              "    border: none;\n",
              "    border-radius: 50%;\n",
              "    cursor: pointer;\n",
              "    display: none;\n",
              "    fill: #1967D2;\n",
              "    height: 32px;\n",
              "    padding: 0 0 0 0;\n",
              "    width: 32px;\n",
              "  }\n",
              "\n",
              "  .colab-df-quickchart:hover {\n",
              "    background-color: #E2EBFA;\n",
              "    box-shadow: 0px 1px 2px rgba(60, 64, 67, 0.3), 0px 1px 3px 1px rgba(60, 64, 67, 0.15);\n",
              "    fill: #174EA6;\n",
              "  }\n",
              "\n",
              "  [theme=dark] .colab-df-quickchart {\n",
              "    background-color: #3B4455;\n",
              "    fill: #D2E3FC;\n",
              "  }\n",
              "\n",
              "  [theme=dark] .colab-df-quickchart:hover {\n",
              "    background-color: #434B5C;\n",
              "    box-shadow: 0px 1px 3px 1px rgba(0, 0, 0, 0.15);\n",
              "    filter: drop-shadow(0px 1px 2px rgba(0, 0, 0, 0.3));\n",
              "    fill: #FFFFFF;\n",
              "  }\n",
              "</style>\n",
              "\n",
              "    <script>\n",
              "      async function quickchart(key) {\n",
              "        const containerElement = document.querySelector('#' + key);\n",
              "        const charts = await google.colab.kernel.invokeFunction(\n",
              "            'suggestCharts', [key], {});\n",
              "      }\n",
              "    </script>\n",
              "\n",
              "      <script>\n",
              "\n",
              "function displayQuickchartButton(domScope) {\n",
              "  let quickchartButtonEl =\n",
              "    domScope.querySelector('#df-73733e52-1d6c-4e77-b6b2-83b1dec91d99 button.colab-df-quickchart');\n",
              "  quickchartButtonEl.style.display =\n",
              "    google.colab.kernel.accessAllowed ? 'block' : 'none';\n",
              "}\n",
              "\n",
              "        displayQuickchartButton(document);\n",
              "      </script>\n",
              "      <style>\n",
              "    .colab-df-container {\n",
              "      display:flex;\n",
              "      flex-wrap:wrap;\n",
              "      gap: 12px;\n",
              "    }\n",
              "\n",
              "    .colab-df-convert {\n",
              "      background-color: #E8F0FE;\n",
              "      border: none;\n",
              "      border-radius: 50%;\n",
              "      cursor: pointer;\n",
              "      display: none;\n",
              "      fill: #1967D2;\n",
              "      height: 32px;\n",
              "      padding: 0 0 0 0;\n",
              "      width: 32px;\n",
              "    }\n",
              "\n",
              "    .colab-df-convert:hover {\n",
              "      background-color: #E2EBFA;\n",
              "      box-shadow: 0px 1px 2px rgba(60, 64, 67, 0.3), 0px 1px 3px 1px rgba(60, 64, 67, 0.15);\n",
              "      fill: #174EA6;\n",
              "    }\n",
              "\n",
              "    [theme=dark] .colab-df-convert {\n",
              "      background-color: #3B4455;\n",
              "      fill: #D2E3FC;\n",
              "    }\n",
              "\n",
              "    [theme=dark] .colab-df-convert:hover {\n",
              "      background-color: #434B5C;\n",
              "      box-shadow: 0px 1px 3px 1px rgba(0, 0, 0, 0.15);\n",
              "      filter: drop-shadow(0px 1px 2px rgba(0, 0, 0, 0.3));\n",
              "      fill: #FFFFFF;\n",
              "    }\n",
              "  </style>\n",
              "\n",
              "      <script>\n",
              "        const buttonEl =\n",
              "          document.querySelector('#df-1c001959-0540-4bc3-b74b-520d6fe6f3b4 button.colab-df-convert');\n",
              "        buttonEl.style.display =\n",
              "          google.colab.kernel.accessAllowed ? 'block' : 'none';\n",
              "\n",
              "        async function convertToInteractive(key) {\n",
              "          const element = document.querySelector('#df-1c001959-0540-4bc3-b74b-520d6fe6f3b4');\n",
              "          const dataTable =\n",
              "            await google.colab.kernel.invokeFunction('convertToInteractive',\n",
              "                                                     [key], {});\n",
              "          if (!dataTable) return;\n",
              "\n",
              "          const docLinkHtml = 'Like what you see? Visit the ' +\n",
              "            '<a target=\"_blank\" href=https://colab.research.google.com/notebooks/data_table.ipynb>data table notebook</a>'\n",
              "            + ' to learn more about interactive tables.';\n",
              "          element.innerHTML = '';\n",
              "          dataTable['output_type'] = 'display_data';\n",
              "          await google.colab.output.renderOutput(dataTable, element);\n",
              "          const docLink = document.createElement('div');\n",
              "          docLink.innerHTML = docLinkHtml;\n",
              "          element.appendChild(docLink);\n",
              "        }\n",
              "      </script>\n",
              "    </div>\n",
              "  </div>\n"
            ]
          },
          "metadata": {},
          "execution_count": 108
        }
      ]
    },
    {
      "cell_type": "code",
      "source": [
        "#(ii)Is the venture likely to be successful? Explain\n",
        "#VENTURE WILL BE SUCCES IF X POSITIVE\n",
        "Success=Df_5[Df_5['x']>'0']\n",
        "total_success=0\n",
        "for i in Success['PX']:\n",
        "  total_success=total_success+float(i)\n",
        "if total_success>0.5:\n",
        "  print(\"venture likely to be successful;\",total_success,'>0.5')\n",
        "else:\n",
        "  print(\"venture not likely to be successful;\",total_success,'<0.5')"
      ],
      "metadata": {
        "colab": {
          "base_uri": "https://localhost:8080/"
        },
        "id": "UWebpQ0Hc7vM",
        "outputId": "cefc05e1-8a51-4dc4-91cd-03eb00e050a3"
      },
      "execution_count": null,
      "outputs": [
        {
          "output_type": "stream",
          "name": "stdout",
          "text": [
            "venture likely to be successful; 0.6 >0.5\n"
          ]
        }
      ]
    },
    {
      "cell_type": "code",
      "source": [
        "#(iii)What is the long-term average earning of business ventures of this kind? Explain\n",
        "#E(X)=SUM(x.P(x))\n",
        "Df_5=Df_5.astype(float)\n",
        "EX=Df_5.product(axis=1).sum()\n",
        "EX"
      ],
      "metadata": {
        "colab": {
          "base_uri": "https://localhost:8080/"
        },
        "id": "0ABgvYh2dGpX",
        "outputId": "c22c6eb0-4037-4cf2-e862-be501ec5f0ec"
      },
      "execution_count": null,
      "outputs": [
        {
          "output_type": "execute_result",
          "data": {
            "text/plain": [
              "800.0"
            ]
          },
          "metadata": {},
          "execution_count": 110
        }
      ]
    },
    {
      "cell_type": "code",
      "source": [
        "#(iv)\tWhat is the good measure of the risk involved in a venture of this kind? Compute this measure\n",
        "#variance=E(x^2)-E(x)^2\n",
        "k1=Df_5.loc[:,'x']\n",
        "k2=Df_5.loc[:,'PX']\n",
        "T=k1*k1*k2\n",
        "Var=T.sum()-(EX)**2\n",
        "Var\n",
        "STD=math.sqrt(Var)\n",
        "STD"
      ],
      "metadata": {
        "colab": {
          "base_uri": "https://localhost:8080/"
        },
        "id": "6w_vPROcdKup",
        "outputId": "60514428-4a4e-4e16-ba06-f33f658927ce"
      },
      "execution_count": null,
      "outputs": [
        {
          "output_type": "execute_result",
          "data": {
            "text/plain": [
              "1469.6938456699068"
            ]
          },
          "metadata": {},
          "execution_count": 111
        }
      ]
    },
    {
      "cell_type": "markdown",
      "source": [
        "--------------------------------------------------------------------------------------------------"
      ],
      "metadata": {
        "id": "-svd55mNdPKY"
      }
    },
    {
      "cell_type": "markdown",
      "source": [
        "**Normal Distribution Functions**"
      ],
      "metadata": {
        "id": "u64jh8HvdePN"
      }
    },
    {
      "cell_type": "markdown",
      "source": [
        "1. The time required for servicing transmissions is normally distributed with m=45 minutes and s = 8 minutes. The service manager plans to have work begin on the transmission of a customer’s car 10 minutes after the car is dropped off and the customer is told that the car will be ready within 1 hour from drop-off. What is the probability that the service manager cannot meet his commitment?"
      ],
      "metadata": {
        "id": "PIdJ-xx2d7o4"
      }
    },
    {
      "cell_type": "code",
      "source": [
        "from scipy import stats\n",
        "import scipy.stats as stats\n",
        "import statistics as st\n",
        "import pandas as pd\n",
        "import numpy as np"
      ],
      "metadata": {
        "id": "lTuymBzmd_V8"
      },
      "execution_count": null,
      "outputs": []
    },
    {
      "cell_type": "code",
      "source": [
        "mean=45+10\n",
        "X=60\n",
        "STD=8\n",
        "Z=(X-mean)/STD\n",
        "print(\"Z is:\",Z)\n",
        "stats.norm.cdf(Z)"
      ],
      "metadata": {
        "colab": {
          "base_uri": "https://localhost:8080/"
        },
        "id": "a1ACDl-aeITj",
        "outputId": "ed773bf1-275d-4db4-af0a-f74e336253b3"
      },
      "execution_count": null,
      "outputs": [
        {
          "output_type": "stream",
          "name": "stdout",
          "text": [
            "Z is: 0.625\n"
          ]
        },
        {
          "output_type": "execute_result",
          "data": {
            "text/plain": [
              "0.7340144709512995"
            ]
          },
          "metadata": {},
          "execution_count": 113
        }
      ]
    },
    {
      "cell_type": "markdown",
      "source": [
        "-------------------------------------------------------------------------------------"
      ],
      "metadata": {
        "id": "J6feJMxlefgJ"
      }
    },
    {
      "cell_type": "markdown",
      "source": [
        "2. The current age (in years) of 400 clerical employees at an insurance claims processing center is normally distributed with mean m = 38 and Standard deviation s =6. For each statement below, please specify True/False. If false, briefly explain why.\n",
        "\n",
        "A. More employees at the processing center are older than 44 than between 38 and 44.\n",
        "\n",
        "B. A training program for employees under the age of 30 at the center would be expected to attract about 36 employees"
      ],
      "metadata": {
        "id": "549n5BleehBI"
      }
    },
    {
      "cell_type": "code",
      "source": [
        "#  A. More employees at the processing center are older than 44 than between 38 and 44.\n",
        "Mean2=38\n",
        "STD2=6\n",
        "#Z Score=(Value-Mean)/(STD2)\n",
        "#Z for above 44:\n",
        "Z44=(44-Mean2)/STD2\n",
        "z44p=stats.norm.cdf(Z44)\n",
        "#People above 44 age:\n",
        "print('People above 44 age:',round((1-z44p)*400,0))\n",
        "#People above 44 age:\n",
        "round((1-z44p),2)*400\n",
        "#people between 38 and 44 age:\n",
        "Z38=(38-Mean2)/STD2\n",
        "z38p=stats.norm.cdf(Z38)\n",
        "Z44_z38=round((z44p-z38p)*400,0)\n",
        "print('People between 38 and 44 age:',Z44_z38)"
      ],
      "metadata": {
        "colab": {
          "base_uri": "https://localhost:8080/"
        },
        "id": "VhfmSAlAei2H",
        "outputId": "7dc4a454-778a-4584-df09-feb3fc7be95a"
      },
      "execution_count": null,
      "outputs": [
        {
          "output_type": "stream",
          "name": "stdout",
          "text": [
            "People above 44 age: 63.0\n",
            "People between 38 and 44 age: 137.0\n"
          ]
        }
      ]
    },
    {
      "cell_type": "code",
      "source": [
        "z30=(30-Mean2)/STD2\n",
        "z30p=stats.norm.cdf(z30)\n",
        "#employees under the age of 30 at the center\n",
        "round(z30p*400,0)"
      ],
      "metadata": {
        "colab": {
          "base_uri": "https://localhost:8080/"
        },
        "id": "NaFqjLIce73c",
        "outputId": "effe6b39-4de8-4523-8e0a-de1cfe054ef5"
      },
      "execution_count": null,
      "outputs": [
        {
          "output_type": "execute_result",
          "data": {
            "text/plain": [
              "36.0"
            ]
          },
          "metadata": {},
          "execution_count": 115
        }
      ]
    },
    {
      "cell_type": "markdown",
      "source": [
        "------------------------------------------------------------"
      ],
      "metadata": {
        "id": "lPmJLjIqfEqj"
      }
    },
    {
      "cell_type": "markdown",
      "source": [
        "\n",
        "4. Let X ~ N(100, 20**2). Find two values, a and b, symmetric about the mean, such that the probability of the random variable taking a value between them is 0.99."
      ],
      "metadata": {
        "id": "RfvT2sdQfFuh"
      }
    },
    {
      "cell_type": "code",
      "source": [
        "MEAN=100\n",
        "STD=20\n",
        "#WE NEED TO FIND a and b .So the probability of the random variable taking a value between them is 0.99.\n",
        "#So Probability of random variable taking a value outside (a,b) region\n",
        "P_OUT=1-0.99\n",
        "#Left side of a and right side of b probability is:\n",
        "P_aL=(1-0.99)/2\n",
        "P_bR=-(1-0.99)/2\n",
        "#So the interval of a and b have probabilty of 0.99 is:\n",
        "Interval=stats.norm.interval(0.99,MEAN,STD)\n",
        "print(\"Values of a and b are:\",Interval)"
      ],
      "metadata": {
        "colab": {
          "base_uri": "https://localhost:8080/"
        },
        "id": "X0Oe5o0YfT2H",
        "outputId": "2ae7a212-0841-4512-d977-16edf7fccba4"
      },
      "execution_count": null,
      "outputs": [
        {
          "output_type": "stream",
          "name": "stdout",
          "text": [
            "Values of a and b are: (48.48341392902199, 151.516586070978)\n"
          ]
        }
      ]
    },
    {
      "cell_type": "markdown",
      "source": [
        "------------------------------------------------------------------"
      ],
      "metadata": {
        "id": "QpRtJIWhfd3T"
      }
    },
    {
      "cell_type": "markdown",
      "source": [
        "5. Consider a company that has two different divisions. The annual profits from the two divisions are independent and have distributions Profit1 ~ N(5, 32) and Profit2 ~ N(7, 42) respectively. Both the profits are in Million$.\n",
        "Answer the following questions about the total profit of the company in Rupees. Assume that $1 = Rs. 45\n",
        "\n",
        "A. Specify a Rupee range (centered on the mean) such that it contains 95% probability for the annual profit of the company.\n",
        "\n",
        "B. Specify the 5th percentile of profit (in Rupees) for the company\n",
        "\n",
        "C. Which of the two divisions has a larger probability of making a loss in a given year?"
      ],
      "metadata": {
        "id": "b1duvsQ3fe4q"
      }
    },
    {
      "cell_type": "code",
      "source": [
        "mean1=5*45\n",
        "print(\"Mean of department1 in $:\",mean1,\"Million\")\n",
        "std1=3\n",
        "mean2=7*45\n",
        "print(\"Mean of department1 in $:\",mean2,\"Million\")\n",
        "std2=4\n",
        "#A Rupee range (centered on the mean) such that it contains 95% probability for the annual profit of the company\n",
        "mean_company=mean1+mean2\n",
        "STD_company=np.sqrt(9+16)*45\n",
        "rupee_range=stats.norm.interval(0.95,mean_company,STD_company)\n",
        "print(\"The mean of the company in Million$ is:\",mean_company)\n",
        "print(\"The STD of the company in Million$ is:\",STD_company)\n",
        "print(\"Rupee rangecontains 95% probability for the annual profit of the company:\",rupee_range,\"in Million$\")"
      ],
      "metadata": {
        "colab": {
          "base_uri": "https://localhost:8080/"
        },
        "id": "v6bKQpcmfs2l",
        "outputId": "12e38005-ec4f-4453-8e60-85b9886eee7a"
      },
      "execution_count": null,
      "outputs": [
        {
          "output_type": "stream",
          "name": "stdout",
          "text": [
            "Mean of department1 in $: 225 Million\n",
            "Mean of department1 in $: 315 Million\n",
            "The mean of the company in Million$ is: 540\n",
            "The STD of the company in Million$ is: 225.0\n",
            "Rupee rangecontains 95% probability for the annual profit of the company: (99.00810347848784, 980.9918965215122) in Million$\n"
          ]
        }
      ]
    },
    {
      "cell_type": "code",
      "source": [
        "from numpy.lib.function_base import percentile\n",
        "# B.Specify the 5th percentile of profit (in Rupees) for the company\n",
        "# 5TH PERCENTILE VALUE FROM Z TABLE\n",
        "z_5=stats.norm.ppf(0.05)\n",
        "z_5\n",
        "#5th percentile of profit is from Z=(X-Mean)/STD\n",
        "X=(z_5*STD_company)+mean_company\n",
        "print(\"5th percentile of profit (in Rupees) for the company in Million$:\",X)"
      ],
      "metadata": {
        "colab": {
          "base_uri": "https://localhost:8080/"
        },
        "id": "-VtZN0-Tf_jU",
        "outputId": "403a09c5-e44f-4d6f-c969-9a566903abeb"
      },
      "execution_count": null,
      "outputs": [
        {
          "output_type": "stream",
          "name": "stdout",
          "text": [
            "5th percentile of profit (in Rupees) for the company in Million$: 169.9079339359186\n"
          ]
        }
      ]
    },
    {
      "cell_type": "code",
      "source": [
        "# C.Which of the two divisions has a larger probability of making a loss in a given year?\n",
        "probability_loss_1=stats.norm.cdf(0,5,3)\n",
        "probability_loss_2=stats.norm.cdf(0,7,4)\n",
        "print(\"probability of making loss by department 1:\",probability_loss_1)\n",
        "print(\"probability of making loss by department 2:\",probability_loss_2)"
      ],
      "metadata": {
        "colab": {
          "base_uri": "https://localhost:8080/"
        },
        "id": "V4xHjfNdgEqQ",
        "outputId": "a1beca6e-8c44-4dea-bb37-360f761622f5"
      },
      "execution_count": null,
      "outputs": [
        {
          "output_type": "stream",
          "name": "stdout",
          "text": [
            "probability of making loss by department 1: 0.0477903522728147\n",
            "probability of making loss by department 2: 0.040059156863817086\n"
          ]
        }
      ]
    },
    {
      "cell_type": "markdown",
      "source": [
        "------------------------------------------------------------------------------------------------"
      ],
      "metadata": {
        "id": "GOQWdMn0gHhg"
      }
    },
    {
      "cell_type": "markdown",
      "source": [
        "**Confidence Intervals**"
      ],
      "metadata": {
        "id": "C36O8mETgI7O"
      }
    },
    {
      "cell_type": "markdown",
      "source": [
        "\n",
        "5. In January 2005, a company that monitors Internet traffic (WebSideStory) reported that its sampling revealed that the Mozilla Firefox browser launched in 2004 had grabbed a 4.6% share of the market.\n",
        "I. If the sample were based on 2,000 users, could Microsoft conclude that Mozilla has a less than 5% share of the market?\n",
        "\n",
        "II. WebSideStory claims that its sample includes all the daily Internet users. If that’s the case, then can Microsoft conclude that Mozilla has a less than 5% share of the market?"
      ],
      "metadata": {
        "id": "_sFAL7qQhFzg"
      }
    },
    {
      "cell_type": "code",
      "source": [
        "import numpy as np\n",
        "import scipy.stats as stats\n",
        "p=0.05\n",
        "q=1-p\n",
        "alpha=0.05\n",
        "phat=0.046\n",
        "n=2000\n",
        "#Here we uses one sample z test for proportins\n",
        "z_score=(phat-p)/(np.sqrt(p*q/n))\n",
        "print(z_score)\n",
        "p_value=1-stats.norm.cdf(abs(z_score))#since H0=>5% so we need to do 1-probabiliy of <5%\n",
        "print(\"p_value:\",p_value)\n",
        "if p_value < alpha:\n",
        "    print(\"Reject null hypothesis (H0)\")\n",
        "else:\n",
        "    print(\"go with null hypotehesis:Mozilla has 5% or more share\")"
      ],
      "metadata": {
        "colab": {
          "base_uri": "https://localhost:8080/"
        },
        "id": "1RBh94pQhL9N",
        "outputId": "57750bc3-1400-449b-ff99-4373cc3edced"
      },
      "execution_count": null,
      "outputs": [
        {
          "output_type": "stream",
          "name": "stdout",
          "text": [
            "-0.820782681668124\n",
            "p_value: 0.20588503245107104\n",
            "go with null hypotehesis:Mozilla has 5% or more share\n"
          ]
        }
      ]
    },
    {
      "cell_type": "markdown",
      "source": [
        "---------------------------------------------------------"
      ],
      "metadata": {
        "id": "deXXKpYVhr6V"
      }
    },
    {
      "cell_type": "markdown",
      "source": [
        "Questions 8 and 9 are based on the following: To prepare a report on the economy,\n",
        "\n",
        "analysts need to estimate the percentage of businesses that plan to hire additional\n",
        "\n",
        "employees in the next 60 days.\n",
        "\n",
        "How many randomly selected employers (minimum number) must we contact in order to guarantee a margin of error of no more than 4% (at 95% confidence)?"
      ],
      "metadata": {
        "id": "c0LQyFHAhtRq"
      }
    },
    {
      "cell_type": "code",
      "source": [
        "import math as mth\n",
        "phat=0.5\n",
        "q=0.5\n",
        "CI=0.95\n",
        "alpha=1-CI\n",
        "z_value=stats.norm.ppf(alpha/2)\n",
        "z_value\n",
        "n=(((z_value)**2)*0.5*0.5/(0.04)**2)\n",
        "round(n)"
      ],
      "metadata": {
        "colab": {
          "base_uri": "https://localhost:8080/"
        },
        "id": "1hBx0HQ3hveM",
        "outputId": "3ecfcf2e-6239-43e1-9618-394a38cbc563"
      },
      "execution_count": null,
      "outputs": [
        {
          "output_type": "execute_result",
          "data": {
            "text/plain": [
              "600"
            ]
          },
          "metadata": {},
          "execution_count": 121
        }
      ]
    },
    {
      "cell_type": "markdown",
      "source": [
        "Suppose we want the above margin of error to be based on a 98% confidence level. What sample size (minimum) must we now use?"
      ],
      "metadata": {
        "id": "TmD18DIZh1if"
      }
    },
    {
      "cell_type": "code",
      "source": [
        "import math as mth\n",
        "phat=0.5\n",
        "q=0.5\n",
        "CI=0.98\n",
        "alpha2=1-CI\n",
        "z_value2=stats.norm.ppf((alpha2)/2)\n",
        "z_value2\n",
        "n=(((z_value2)**2)*0.5*0.5/(0.04)**2)\n",
        "round(n)"
      ],
      "metadata": {
        "colab": {
          "base_uri": "https://localhost:8080/"
        },
        "id": "FDwlIZ2oh450",
        "outputId": "52ed4b9f-61b3-44ed-ceea-c5b102cf4371"
      },
      "execution_count": null,
      "outputs": [
        {
          "output_type": "execute_result",
          "data": {
            "text/plain": [
              "846"
            ]
          },
          "metadata": {},
          "execution_count": 122
        }
      ]
    },
    {
      "cell_type": "markdown",
      "source": [
        "---------------------------------------------------------------------------------"
      ],
      "metadata": {
        "id": "GRaqaafBh81g"
      }
    },
    {
      "cell_type": "markdown",
      "source": [
        "**Sampling Distributions and Central Limit Theorem**"
      ],
      "metadata": {
        "id": "dLJ6oSMRiIss"
      }
    },
    {
      "cell_type": "markdown",
      "source": [
        "Auditors at a small community bank randomly sample 100 withdrawal transactions\n",
        "made during the week at an ATM machine located near the bank’s main branch.\n",
        "\n",
        "Over the past 2 years, the average withdrawal amount has been 40.\n",
        "\n",
        "Since audit investigations are typically expensive, the auditors decide to not initiate further investigations\n",
        "\n",
        "are typically expensive, the auditors decide to not initiate further investigations if\n",
        "\n",
        "the mean transaction amount of the sample is between\n",
        "\n",
        "What is the\n",
        "probability that in any given week, there will be an investigation?"
      ],
      "metadata": {
        "id": "vLyRdB1uiYsB"
      }
    },
    {
      "cell_type": "code",
      "source": [
        "import numpy as np\n",
        "import scipy.stats as stats\n"
      ],
      "metadata": {
        "id": "vojUUI0mijkA"
      },
      "execution_count": null,
      "outputs": []
    },
    {
      "cell_type": "code",
      "source": [
        " XAverage=50\n",
        " STD_SAMPLE=40\n",
        " n=100\n",
        " mu1=45\n",
        " mu2=55\n",
        " df=n-1\n",
        " alpha=0.05"
      ],
      "metadata": {
        "id": "pWB6xZq2ir96"
      },
      "execution_count": null,
      "outputs": []
    },
    {
      "cell_type": "code",
      "source": [
        "t_value1=(mu1 - XAverage)/((STD_SAMPLE)/np.sqrt(n))\n",
        "t_value2=(mu2 - XAverage)/((STD_SAMPLE)/np.sqrt(n))\n",
        "print(\"t_value1:\", t_value1)\n",
        "print(\"t_value2:\", t_value2)\n",
        "probability1=stats.norm.cdf(t_value1)\n",
        "probability2=stats.norm.cdf(t_value2)\n",
        "print(\"probability1:\",probability1)\n",
        "print(\"probability2:\",probability2)"
      ],
      "metadata": {
        "colab": {
          "base_uri": "https://localhost:8080/"
        },
        "id": "cnoo1Ey3ixlH",
        "outputId": "e5cb1a80-ea2e-41c3-d480-86de69553e3a"
      },
      "execution_count": null,
      "outputs": [
        {
          "output_type": "stream",
          "name": "stdout",
          "text": [
            "t_value1: -1.25\n",
            "t_value2: 1.25\n",
            "probability1: 0.10564977366685535\n",
            "probability2: 0.8943502263331446\n"
          ]
        }
      ]
    },
    {
      "cell_type": "code",
      "source": [
        "p=probability2-probability1\n",
        "print(p)"
      ],
      "metadata": {
        "colab": {
          "base_uri": "https://localhost:8080/"
        },
        "id": "DaWWYsIdi5S0",
        "outputId": "02654c1d-cce7-423e-cd5b-d53fff332f62"
      },
      "execution_count": null,
      "outputs": [
        {
          "output_type": "stream",
          "name": "stdout",
          "text": [
            "0.7887004526662893\n"
          ]
        }
      ]
    },
    {
      "cell_type": "code",
      "source": [
        "print(\"probability between 45:\",p)"
      ],
      "metadata": {
        "colab": {
          "base_uri": "https://localhost:8080/"
        },
        "id": "0HCWYryri9Iv",
        "outputId": "ad8cefbb-2ded-4798-b939-3e8f91889a02"
      },
      "execution_count": null,
      "outputs": [
        {
          "output_type": "stream",
          "name": "stdout",
          "text": [
            "probability between 45: 0.7887004526662893\n"
          ]
        }
      ]
    },
    {
      "cell_type": "code",
      "source": [
        "if p<=alpha:\n",
        "  print(\"Accept Alternate hypothesis,so There will be a chance of an investigation\")\n",
        "else:\n",
        "  print(\"Reject Alternate hypothesis,so There will not be a chance of an investigation\")"
      ],
      "metadata": {
        "colab": {
          "base_uri": "https://localhost:8080/"
        },
        "id": "KVE_GqWMjBLR",
        "outputId": "19bf8fb4-e45e-4f42-f542-a0214c7a2055"
      },
      "execution_count": null,
      "outputs": [
        {
          "output_type": "stream",
          "name": "stdout",
          "text": [
            "Reject Alternate hypothesis,so There will not be a chance of an investigation\n"
          ]
        }
      ]
    },
    {
      "cell_type": "markdown",
      "source": [
        "-------------------------------------------------------------------------"
      ],
      "metadata": {
        "id": "7NpyXtVqjPY6"
      }
    },
    {
      "cell_type": "markdown",
      "source": [
        "The auditors from the above example would like to maintain the probability\n",
        "of investigation to 5%. Which of the following represents the minimum number\n",
        "\n",
        "transactions that they should sample if they do not want to change the\n",
        "\n",
        "thresholds of 45 and 55? Assume that the sample statistics remain unchanged."
      ],
      "metadata": {
        "id": "_J6n7abFjKij"
      }
    },
    {
      "cell_type": "code",
      "source": [
        "t_value=stats.t.ppf((1-0.05/2),99)\n",
        "t_value\n",
        "n=(40*1.96)**2/25\n",
        "print(n)"
      ],
      "metadata": {
        "colab": {
          "base_uri": "https://localhost:8080/"
        },
        "id": "vdNKccgmjM0b",
        "outputId": "b4b7c144-8bc5-46cc-ef9d-d6dab066931a"
      },
      "execution_count": null,
      "outputs": [
        {
          "output_type": "stream",
          "name": "stdout",
          "text": [
            "245.86240000000006\n"
          ]
        }
      ]
    },
    {
      "cell_type": "markdown",
      "source": [
        "--------------------------------------------------------------------------"
      ],
      "metadata": {
        "id": "-9zi5_PQjagj"
      }
    },
    {
      "cell_type": "markdown",
      "source": [
        "An educational startup that helps MBA aspirants write their essays is targeting\n",
        "individuals who have taken GMAT in 2012 and have expressed interest in applying to\n",
        "\n",
        "FT top 20 b-schools. There are 40000 such individuals with an average GMAT score of\n",
        "\n",
        "720 and a standard deviation of 120. The scores are distributed between 650 and 790 with\n",
        "\n",
        "a very long and thin tail towards the higher end resulting in substantial skewness.\n",
        "\n",
        "Which of the following is likely to be true for randomly chosen samples of aspirants?\n",
        "\n",
        "A. The standard deviation of the scores within any sample will be 120.\n",
        "\n",
        "B. Thestandard deviation of the mean of across several samples will be 120.\n",
        "\n",
        "C. The mean score in any sample will be 720.\n",
        "\n",
        "D. The average of the mean across several samples will be 720.\n",
        "\n",
        "E. The standard deviation of the mean across several samples will be 0.60"
      ],
      "metadata": {
        "id": "AIdamGEAjcVz"
      }
    },
    {
      "cell_type": "code",
      "source": [
        "X_avg=720\n",
        "STD_samp=120\n",
        "n=40000\n",
        "#Standard_deviation_of_the_mean_across_several_samples is Standard_Error\n",
        "Standard_Error=STD_samp/np.sqrt(n)\n",
        "print(Standard_Error)"
      ],
      "metadata": {
        "colab": {
          "base_uri": "https://localhost:8080/"
        },
        "id": "WLJhWrnKjehL",
        "outputId": "997795cf-3964-4c7e-f6e9-2a38ab170426"
      },
      "execution_count": null,
      "outputs": [
        {
          "output_type": "stream",
          "name": "stdout",
          "text": [
            "0.6\n"
          ]
        }
      ]
    },
    {
      "cell_type": "markdown",
      "source": [
        "============================================================================================================================================"
      ],
      "metadata": {
        "id": "YqjKXwShnfJp"
      }
    }
  ]
}